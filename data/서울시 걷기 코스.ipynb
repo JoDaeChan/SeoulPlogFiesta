{
 "cells": [
  {
   "cell_type": "markdown",
   "id": "980a68b4-8d30-40cc-9735-302808c74750",
   "metadata": {},
   "source": [
    "# 사용 데이터셋"
   ]
  },
  {
   "cell_type": "markdown",
   "source": [
    "출처 : 문화 빅데이터 플랫폼 (국토교통부)\n",
    "\n",
    "url : https://www.bigdata-culture.kr/bigdata/user/data_market/detail.do?id=9d4e73e0-41e6-11eb-af9a-4b03f0a582d6\n",
    "\n",
    "데이터 소개 : 국내 산책로 정보\n",
    "\n",
    "사용 데이터 : 서울 산책로 정보\n"
   ],
   "metadata": {
    "collapsed": false
   },
   "id": "2053dffd8a56b5ba"
  },
  {
   "cell_type": "code",
   "execution_count": 22,
   "outputs": [],
   "source": [
    "import pandas as pd\n",
    "import folium\n",
    "\n",
    "data = pd.read_csv(\"seoul_plogging.csv\")\n",
    "\n",
    "# 서울 중심으로 시작\n",
    "seoul_map = folium.Map(location=[37.5665, 126.9780], zoom_start=13)\n",
    "\n",
    "# 마커포인트 팝업 정보\n",
    "for index, row in data.iterrows():\n",
    "\tpopup_text = (\n",
    "\t\tf\"코스: {row['WLK_COURS_NM']}<br>\"\n",
    "\t\tf\"레벨: {row['COURS_LEVEL_NM']}<br>\"\n",
    "\t\tf\"길이: {row['COURS_LT_CN']} km<br>\"\n",
    "\t\tf\"위치: {row['SIGNGU_NM']}<br>\"\n",
    "\t\tf\"정보: {row['COURS_DC']}\"\n",
    "\t)\n",
    "\n",
    "\tpopup_html = folium.Html(popup_text, script=True)\n",
    "\tpopup = folium.Popup(popup_html, max_width=\"1000\")\n",
    "\n",
    "# 경도, 위도로 지도에 마커포인트 표시\n",
    "\tmarker = folium.Marker(\n",
    "\t\tlocation=[row[\"COURS_SPOT_LA\"], row[\"COURS_SPOT_LO\"]],\n",
    "\t\tpopup=popup,\n",
    "\t\ticon=folium.Icon(color=\"blue\", icon=\"info-sign\"),\n",
    "\t)\n",
    "\tmarker.add_to(seoul_map)\n",
    "\t\n",
    "seoul_map.save(\"seoul_course_map.html\")"
   ],
   "metadata": {
    "collapsed": false,
    "ExecuteTime": {
     "end_time": "2023-08-14T08:20:21.545342Z",
     "start_time": "2023-08-14T08:20:21.390519Z"
    }
   },
   "id": "daaf8a7e3bb52802"
  }
 ],
 "metadata": {
  "kernelspec": {
   "display_name": "Python 3 (ipykernel)",
   "language": "python",
   "name": "python3"
  },
  "language_info": {
   "codemirror_mode": {
    "name": "ipython",
    "version": 3
   },
   "file_extension": ".py",
   "mimetype": "text/x-python",
   "name": "python",
   "nbconvert_exporter": "python",
   "pygments_lexer": "ipython3",
   "version": "3.11.4"
  }
 },
 "nbformat": 4,
 "nbformat_minor": 5
}
